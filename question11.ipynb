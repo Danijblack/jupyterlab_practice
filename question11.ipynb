{
 "cells": [
  {
   "cell_type": "markdown",
   "id": "10f7e8ec-80b1-463b-8f2e-7a480ca128f9",
   "metadata": {},
   "source": [
    "# Notebook for assignment 7\n",
    "\n",
    "Danielle Black\n",
    "\n",
    "This notebook is for assignment 7 of the Data Toolbox course."
   ]
  },
  {
   "cell_type": "code",
   "execution_count": 1,
   "id": "d401617c-f107-4ab7-bfc9-aaccbcb7bf20",
   "metadata": {},
   "outputs": [
    {
     "name": "stdout",
     "output_type": "stream",
     "text": [
      "5.0\n"
     ]
    }
   ],
   "source": [
    "def compute_mean(values):\n",
    "    mean = sum(values) / len(values)\n",
    "    print(mean)\n",
    "\n",
    "compute_mean([2, 4, 6, 8])\n"
   ]
  },
  {
   "cell_type": "markdown",
   "id": "dc59f1a9-a850-40ae-86a6-d317367932d2",
   "metadata": {},
   "source": [
    "The function compute_mean takes the sum of the values in a list and divides them by the number or lenght of values in that list and then prints the result.\n",
    "\n",
    "$$ mean = \\frac{{sum}({n})}{{len}({n})}$$\n",
    "\n",
    "$$ mean = {{sum} x {n}} \\div {{len} x {n}} $$"
   ]
  },
  {
   "cell_type": "code",
   "execution_count": null,
   "id": "970fc3b3-6525-41d8-8845-b6ff4d778306",
   "metadata": {},
   "outputs": [],
   "source": []
  }
 ],
 "metadata": {
  "kernelspec": {
   "display_name": "Python 3 (ipykernel)",
   "language": "python",
   "name": "python3"
  },
  "language_info": {
   "codemirror_mode": {
    "name": "ipython",
    "version": 3
   },
   "file_extension": ".py",
   "mimetype": "text/x-python",
   "name": "python",
   "nbconvert_exporter": "python",
   "pygments_lexer": "ipython3",
   "version": "3.12.2"
  }
 },
 "nbformat": 4,
 "nbformat_minor": 5
}
